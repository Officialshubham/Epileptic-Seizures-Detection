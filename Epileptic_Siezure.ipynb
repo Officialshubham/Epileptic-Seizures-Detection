{
  "cells": [
    {
      "cell_type": "code",
      "execution_count": null,
      "metadata": {
        "id": "T6F8ArpykJrO"
      },
      "outputs": [],
      "source": [
        "# importing necessary libraries\n",
        "import pandas as pd\n",
        "import numpy as np\n",
        "import pickle\n",
        "from sklearn.preprocessing import StandardScaler\n",
        "from sklearn.metrics import roc_auc_score, accuracy_score, precision_score, recall_score\n",
        "from sklearn.neighbors import KNeighborsClassifier\n",
        "from sklearn.linear_model import LogisticRegression\n",
        "from sklearn.linear_model import SGDClassifier\n",
        "from sklearn.naive_bayes import GaussianNB\n",
        "from sklearn.tree import DecisionTreeClassifier\n",
        "from sklearn.ensemble import RandomForestClassifier\n",
        "from sklearn.ensemble import GradientBoostingClassifier\n",
        "\n",
        "from sklearn.decomposition import PCA\n",
        "from sklearn.ensemble import ExtraTreesClassifier\n",
        "from sklearn.feature_selection import RFE\n",
        "from sklearn.model_selection import train_test_split\n",
        "from sklearn.pipeline import make_pipeline\n",
        "from sklearn.preprocessing import MinMaxScaler, StandardScaler\n",
        "from xgboost import XGBClassifier\n",
        "import xgboost as xgb"
      ]
    },
    {
      "cell_type": "code",
      "execution_count": null,
      "metadata": {
        "id": "wot-ZcmjlMkz"
      },
      "outputs": [],
      "source": [
        "data = pd.read_csv('/content/drive/MyDrive/major/EpilepticInformation.csv')"
      ]
    },
    {
      "cell_type": "code",
      "execution_count": null,
      "metadata": {
        "colab": {
          "base_uri": "https://localhost:8080/",
          "height": 236
        },
        "id": "mvyCFUQplLnQ",
        "outputId": "0107e4f6-3d6f-486d-eebe-de36979a84a3"
      },
      "outputs": [
        {
          "data": {
            "text/html": [
              "\n",
              "  <div id=\"df-f8dc1e93-e08c-4794-9d04-1d9c27273be2\">\n",
              "    <div class=\"colab-df-container\">\n",
              "      <div>\n",
              "<style scoped>\n",
              "    .dataframe tbody tr th:only-of-type {\n",
              "        vertical-align: middle;\n",
              "    }\n",
              "\n",
              "    .dataframe tbody tr th {\n",
              "        vertical-align: top;\n",
              "    }\n",
              "\n",
              "    .dataframe thead th {\n",
              "        text-align: right;\n",
              "    }\n",
              "</style>\n",
              "<table border=\"1\" class=\"dataframe\">\n",
              "  <thead>\n",
              "    <tr style=\"text-align: right;\">\n",
              "      <th></th>\n",
              "      <th>Unnamed</th>\n",
              "      <th>X1</th>\n",
              "      <th>X2</th>\n",
              "      <th>X3</th>\n",
              "      <th>X4</th>\n",
              "      <th>X5</th>\n",
              "      <th>X6</th>\n",
              "      <th>X7</th>\n",
              "      <th>X8</th>\n",
              "      <th>X9</th>\n",
              "      <th>...</th>\n",
              "      <th>X170</th>\n",
              "      <th>X171</th>\n",
              "      <th>X172</th>\n",
              "      <th>X173</th>\n",
              "      <th>X174</th>\n",
              "      <th>X175</th>\n",
              "      <th>X176</th>\n",
              "      <th>X177</th>\n",
              "      <th>X178</th>\n",
              "      <th>y</th>\n",
              "    </tr>\n",
              "  </thead>\n",
              "  <tbody>\n",
              "    <tr>\n",
              "      <th>0</th>\n",
              "      <td>X21.V1.791</td>\n",
              "      <td>135</td>\n",
              "      <td>190</td>\n",
              "      <td>229</td>\n",
              "      <td>223</td>\n",
              "      <td>192</td>\n",
              "      <td>125</td>\n",
              "      <td>55</td>\n",
              "      <td>-9</td>\n",
              "      <td>-33</td>\n",
              "      <td>...</td>\n",
              "      <td>-17</td>\n",
              "      <td>-15</td>\n",
              "      <td>-31</td>\n",
              "      <td>-77</td>\n",
              "      <td>-103</td>\n",
              "      <td>-127</td>\n",
              "      <td>-116</td>\n",
              "      <td>-83</td>\n",
              "      <td>-51</td>\n",
              "      <td>4</td>\n",
              "    </tr>\n",
              "    <tr>\n",
              "      <th>1</th>\n",
              "      <td>X15.V1.924</td>\n",
              "      <td>386</td>\n",
              "      <td>382</td>\n",
              "      <td>356</td>\n",
              "      <td>331</td>\n",
              "      <td>320</td>\n",
              "      <td>315</td>\n",
              "      <td>307</td>\n",
              "      <td>272</td>\n",
              "      <td>244</td>\n",
              "      <td>...</td>\n",
              "      <td>164</td>\n",
              "      <td>150</td>\n",
              "      <td>146</td>\n",
              "      <td>152</td>\n",
              "      <td>157</td>\n",
              "      <td>156</td>\n",
              "      <td>154</td>\n",
              "      <td>143</td>\n",
              "      <td>129</td>\n",
              "      <td>1</td>\n",
              "    </tr>\n",
              "    <tr>\n",
              "      <th>2</th>\n",
              "      <td>X8.V1.1</td>\n",
              "      <td>-32</td>\n",
              "      <td>-39</td>\n",
              "      <td>-47</td>\n",
              "      <td>-37</td>\n",
              "      <td>-32</td>\n",
              "      <td>-36</td>\n",
              "      <td>-57</td>\n",
              "      <td>-73</td>\n",
              "      <td>-85</td>\n",
              "      <td>...</td>\n",
              "      <td>57</td>\n",
              "      <td>64</td>\n",
              "      <td>48</td>\n",
              "      <td>19</td>\n",
              "      <td>-12</td>\n",
              "      <td>-30</td>\n",
              "      <td>-35</td>\n",
              "      <td>-35</td>\n",
              "      <td>-36</td>\n",
              "      <td>5</td>\n",
              "    </tr>\n",
              "    <tr>\n",
              "      <th>3</th>\n",
              "      <td>X16.V1.60</td>\n",
              "      <td>-105</td>\n",
              "      <td>-101</td>\n",
              "      <td>-96</td>\n",
              "      <td>-92</td>\n",
              "      <td>-89</td>\n",
              "      <td>-95</td>\n",
              "      <td>-102</td>\n",
              "      <td>-100</td>\n",
              "      <td>-87</td>\n",
              "      <td>...</td>\n",
              "      <td>-82</td>\n",
              "      <td>-81</td>\n",
              "      <td>-80</td>\n",
              "      <td>-77</td>\n",
              "      <td>-85</td>\n",
              "      <td>-77</td>\n",
              "      <td>-72</td>\n",
              "      <td>-69</td>\n",
              "      <td>-65</td>\n",
              "      <td>5</td>\n",
              "    </tr>\n",
              "    <tr>\n",
              "      <th>4</th>\n",
              "      <td>X20.V1.54</td>\n",
              "      <td>-9</td>\n",
              "      <td>-65</td>\n",
              "      <td>-98</td>\n",
              "      <td>-102</td>\n",
              "      <td>-78</td>\n",
              "      <td>-48</td>\n",
              "      <td>-16</td>\n",
              "      <td>0</td>\n",
              "      <td>-21</td>\n",
              "      <td>...</td>\n",
              "      <td>4</td>\n",
              "      <td>2</td>\n",
              "      <td>-12</td>\n",
              "      <td>-32</td>\n",
              "      <td>-41</td>\n",
              "      <td>-65</td>\n",
              "      <td>-83</td>\n",
              "      <td>-89</td>\n",
              "      <td>-73</td>\n",
              "      <td>5</td>\n",
              "    </tr>\n",
              "  </tbody>\n",
              "</table>\n",
              "<p>5 rows × 180 columns</p>\n",
              "</div>\n",
              "      <button class=\"colab-df-convert\" onclick=\"convertToInteractive('df-f8dc1e93-e08c-4794-9d04-1d9c27273be2')\"\n",
              "              title=\"Convert this dataframe to an interactive table.\"\n",
              "              style=\"display:none;\">\n",
              "        \n",
              "  <svg xmlns=\"http://www.w3.org/2000/svg\" height=\"24px\"viewBox=\"0 0 24 24\"\n",
              "       width=\"24px\">\n",
              "    <path d=\"M0 0h24v24H0V0z\" fill=\"none\"/>\n",
              "    <path d=\"M18.56 5.44l.94 2.06.94-2.06 2.06-.94-2.06-.94-.94-2.06-.94 2.06-2.06.94zm-11 1L8.5 8.5l.94-2.06 2.06-.94-2.06-.94L8.5 2.5l-.94 2.06-2.06.94zm10 10l.94 2.06.94-2.06 2.06-.94-2.06-.94-.94-2.06-.94 2.06-2.06.94z\"/><path d=\"M17.41 7.96l-1.37-1.37c-.4-.4-.92-.59-1.43-.59-.52 0-1.04.2-1.43.59L10.3 9.45l-7.72 7.72c-.78.78-.78 2.05 0 2.83L4 21.41c.39.39.9.59 1.41.59.51 0 1.02-.2 1.41-.59l7.78-7.78 2.81-2.81c.8-.78.8-2.07 0-2.86zM5.41 20L4 18.59l7.72-7.72 1.47 1.35L5.41 20z\"/>\n",
              "  </svg>\n",
              "      </button>\n",
              "      \n",
              "  <style>\n",
              "    .colab-df-container {\n",
              "      display:flex;\n",
              "      flex-wrap:wrap;\n",
              "      gap: 12px;\n",
              "    }\n",
              "\n",
              "    .colab-df-convert {\n",
              "      background-color: #E8F0FE;\n",
              "      border: none;\n",
              "      border-radius: 50%;\n",
              "      cursor: pointer;\n",
              "      display: none;\n",
              "      fill: #1967D2;\n",
              "      height: 32px;\n",
              "      padding: 0 0 0 0;\n",
              "      width: 32px;\n",
              "    }\n",
              "\n",
              "    .colab-df-convert:hover {\n",
              "      background-color: #E2EBFA;\n",
              "      box-shadow: 0px 1px 2px rgba(60, 64, 67, 0.3), 0px 1px 3px 1px rgba(60, 64, 67, 0.15);\n",
              "      fill: #174EA6;\n",
              "    }\n",
              "\n",
              "    [theme=dark] .colab-df-convert {\n",
              "      background-color: #3B4455;\n",
              "      fill: #D2E3FC;\n",
              "    }\n",
              "\n",
              "    [theme=dark] .colab-df-convert:hover {\n",
              "      background-color: #434B5C;\n",
              "      box-shadow: 0px 1px 3px 1px rgba(0, 0, 0, 0.15);\n",
              "      filter: drop-shadow(0px 1px 2px rgba(0, 0, 0, 0.3));\n",
              "      fill: #FFFFFF;\n",
              "    }\n",
              "  </style>\n",
              "\n",
              "      <script>\n",
              "        const buttonEl =\n",
              "          document.querySelector('#df-f8dc1e93-e08c-4794-9d04-1d9c27273be2 button.colab-df-convert');\n",
              "        buttonEl.style.display =\n",
              "          google.colab.kernel.accessAllowed ? 'block' : 'none';\n",
              "\n",
              "        async function convertToInteractive(key) {\n",
              "          const element = document.querySelector('#df-f8dc1e93-e08c-4794-9d04-1d9c27273be2');\n",
              "          const dataTable =\n",
              "            await google.colab.kernel.invokeFunction('convertToInteractive',\n",
              "                                                     [key], {});\n",
              "          if (!dataTable) return;\n",
              "\n",
              "          const docLinkHtml = 'Like what you see? Visit the ' +\n",
              "            '<a target=\"_blank\" href=https://colab.research.google.com/notebooks/data_table.ipynb>data table notebook</a>'\n",
              "            + ' to learn more about interactive tables.';\n",
              "          element.innerHTML = '';\n",
              "          dataTable['output_type'] = 'display_data';\n",
              "          await google.colab.output.renderOutput(dataTable, element);\n",
              "          const docLink = document.createElement('div');\n",
              "          docLink.innerHTML = docLinkHtml;\n",
              "          element.appendChild(docLink);\n",
              "        }\n",
              "      </script>\n",
              "    </div>\n",
              "  </div>\n",
              "  "
            ],
            "text/plain": [
              "      Unnamed   X1   X2   X3   X4   X5   X6   X7   X8   X9  ...  X170  X171  \\\n",
              "0  X21.V1.791  135  190  229  223  192  125   55   -9  -33  ...   -17   -15   \n",
              "1  X15.V1.924  386  382  356  331  320  315  307  272  244  ...   164   150   \n",
              "2     X8.V1.1  -32  -39  -47  -37  -32  -36  -57  -73  -85  ...    57    64   \n",
              "3   X16.V1.60 -105 -101  -96  -92  -89  -95 -102 -100  -87  ...   -82   -81   \n",
              "4   X20.V1.54   -9  -65  -98 -102  -78  -48  -16    0  -21  ...     4     2   \n",
              "\n",
              "   X172  X173  X174  X175  X176  X177  X178  y  \n",
              "0   -31   -77  -103  -127  -116   -83   -51  4  \n",
              "1   146   152   157   156   154   143   129  1  \n",
              "2    48    19   -12   -30   -35   -35   -36  5  \n",
              "3   -80   -77   -85   -77   -72   -69   -65  5  \n",
              "4   -12   -32   -41   -65   -83   -89   -73  5  \n",
              "\n",
              "[5 rows x 180 columns]"
            ]
          },
          "execution_count": 3,
          "metadata": {},
          "output_type": "execute_result"
        }
      ],
      "source": [
        "data.head()"
      ]
    },
    {
      "cell_type": "code",
      "execution_count": null,
      "metadata": {
        "id": "JFwMRRxgmJ6m"
      },
      "outputs": [],
      "source": [
        "data[\"dependent_var\"] = data.y == 1\n",
        "data[\"dependent_var\"] = data[\"dependent_var\"].astype(int)\n",
        "data.pop('y')\n",
        "data.drop(data.columns[0], axis=1, inplace=True)"
      ]
    },
    {
      "cell_type": "code",
      "execution_count": null,
      "metadata": {
        "colab": {
          "base_uri": "https://localhost:8080/",
          "height": 236
        },
        "id": "zAgiAjySom09",
        "outputId": "f3466c53-aba8-4e02-a9db-e6150ec7de72"
      },
      "outputs": [
        {
          "data": {
            "text/html": [
              "\n",
              "  <div id=\"df-75c45b6e-e887-4798-9ba7-232c46cc8b00\">\n",
              "    <div class=\"colab-df-container\">\n",
              "      <div>\n",
              "<style scoped>\n",
              "    .dataframe tbody tr th:only-of-type {\n",
              "        vertical-align: middle;\n",
              "    }\n",
              "\n",
              "    .dataframe tbody tr th {\n",
              "        vertical-align: top;\n",
              "    }\n",
              "\n",
              "    .dataframe thead th {\n",
              "        text-align: right;\n",
              "    }\n",
              "</style>\n",
              "<table border=\"1\" class=\"dataframe\">\n",
              "  <thead>\n",
              "    <tr style=\"text-align: right;\">\n",
              "      <th></th>\n",
              "      <th>X1</th>\n",
              "      <th>X2</th>\n",
              "      <th>X3</th>\n",
              "      <th>X4</th>\n",
              "      <th>X5</th>\n",
              "      <th>X6</th>\n",
              "      <th>X7</th>\n",
              "      <th>X8</th>\n",
              "      <th>X9</th>\n",
              "      <th>X10</th>\n",
              "      <th>...</th>\n",
              "      <th>X170</th>\n",
              "      <th>X171</th>\n",
              "      <th>X172</th>\n",
              "      <th>X173</th>\n",
              "      <th>X174</th>\n",
              "      <th>X175</th>\n",
              "      <th>X176</th>\n",
              "      <th>X177</th>\n",
              "      <th>X178</th>\n",
              "      <th>dependent_var</th>\n",
              "    </tr>\n",
              "  </thead>\n",
              "  <tbody>\n",
              "    <tr>\n",
              "      <th>0</th>\n",
              "      <td>135</td>\n",
              "      <td>190</td>\n",
              "      <td>229</td>\n",
              "      <td>223</td>\n",
              "      <td>192</td>\n",
              "      <td>125</td>\n",
              "      <td>55</td>\n",
              "      <td>-9</td>\n",
              "      <td>-33</td>\n",
              "      <td>-38</td>\n",
              "      <td>...</td>\n",
              "      <td>-17</td>\n",
              "      <td>-15</td>\n",
              "      <td>-31</td>\n",
              "      <td>-77</td>\n",
              "      <td>-103</td>\n",
              "      <td>-127</td>\n",
              "      <td>-116</td>\n",
              "      <td>-83</td>\n",
              "      <td>-51</td>\n",
              "      <td>0</td>\n",
              "    </tr>\n",
              "    <tr>\n",
              "      <th>1</th>\n",
              "      <td>386</td>\n",
              "      <td>382</td>\n",
              "      <td>356</td>\n",
              "      <td>331</td>\n",
              "      <td>320</td>\n",
              "      <td>315</td>\n",
              "      <td>307</td>\n",
              "      <td>272</td>\n",
              "      <td>244</td>\n",
              "      <td>232</td>\n",
              "      <td>...</td>\n",
              "      <td>164</td>\n",
              "      <td>150</td>\n",
              "      <td>146</td>\n",
              "      <td>152</td>\n",
              "      <td>157</td>\n",
              "      <td>156</td>\n",
              "      <td>154</td>\n",
              "      <td>143</td>\n",
              "      <td>129</td>\n",
              "      <td>1</td>\n",
              "    </tr>\n",
              "    <tr>\n",
              "      <th>2</th>\n",
              "      <td>-32</td>\n",
              "      <td>-39</td>\n",
              "      <td>-47</td>\n",
              "      <td>-37</td>\n",
              "      <td>-32</td>\n",
              "      <td>-36</td>\n",
              "      <td>-57</td>\n",
              "      <td>-73</td>\n",
              "      <td>-85</td>\n",
              "      <td>-94</td>\n",
              "      <td>...</td>\n",
              "      <td>57</td>\n",
              "      <td>64</td>\n",
              "      <td>48</td>\n",
              "      <td>19</td>\n",
              "      <td>-12</td>\n",
              "      <td>-30</td>\n",
              "      <td>-35</td>\n",
              "      <td>-35</td>\n",
              "      <td>-36</td>\n",
              "      <td>0</td>\n",
              "    </tr>\n",
              "    <tr>\n",
              "      <th>3</th>\n",
              "      <td>-105</td>\n",
              "      <td>-101</td>\n",
              "      <td>-96</td>\n",
              "      <td>-92</td>\n",
              "      <td>-89</td>\n",
              "      <td>-95</td>\n",
              "      <td>-102</td>\n",
              "      <td>-100</td>\n",
              "      <td>-87</td>\n",
              "      <td>-79</td>\n",
              "      <td>...</td>\n",
              "      <td>-82</td>\n",
              "      <td>-81</td>\n",
              "      <td>-80</td>\n",
              "      <td>-77</td>\n",
              "      <td>-85</td>\n",
              "      <td>-77</td>\n",
              "      <td>-72</td>\n",
              "      <td>-69</td>\n",
              "      <td>-65</td>\n",
              "      <td>0</td>\n",
              "    </tr>\n",
              "    <tr>\n",
              "      <th>4</th>\n",
              "      <td>-9</td>\n",
              "      <td>-65</td>\n",
              "      <td>-98</td>\n",
              "      <td>-102</td>\n",
              "      <td>-78</td>\n",
              "      <td>-48</td>\n",
              "      <td>-16</td>\n",
              "      <td>0</td>\n",
              "      <td>-21</td>\n",
              "      <td>-59</td>\n",
              "      <td>...</td>\n",
              "      <td>4</td>\n",
              "      <td>2</td>\n",
              "      <td>-12</td>\n",
              "      <td>-32</td>\n",
              "      <td>-41</td>\n",
              "      <td>-65</td>\n",
              "      <td>-83</td>\n",
              "      <td>-89</td>\n",
              "      <td>-73</td>\n",
              "      <td>0</td>\n",
              "    </tr>\n",
              "  </tbody>\n",
              "</table>\n",
              "<p>5 rows × 179 columns</p>\n",
              "</div>\n",
              "      <button class=\"colab-df-convert\" onclick=\"convertToInteractive('df-75c45b6e-e887-4798-9ba7-232c46cc8b00')\"\n",
              "              title=\"Convert this dataframe to an interactive table.\"\n",
              "              style=\"display:none;\">\n",
              "        \n",
              "  <svg xmlns=\"http://www.w3.org/2000/svg\" height=\"24px\"viewBox=\"0 0 24 24\"\n",
              "       width=\"24px\">\n",
              "    <path d=\"M0 0h24v24H0V0z\" fill=\"none\"/>\n",
              "    <path d=\"M18.56 5.44l.94 2.06.94-2.06 2.06-.94-2.06-.94-.94-2.06-.94 2.06-2.06.94zm-11 1L8.5 8.5l.94-2.06 2.06-.94-2.06-.94L8.5 2.5l-.94 2.06-2.06.94zm10 10l.94 2.06.94-2.06 2.06-.94-2.06-.94-.94-2.06-.94 2.06-2.06.94z\"/><path d=\"M17.41 7.96l-1.37-1.37c-.4-.4-.92-.59-1.43-.59-.52 0-1.04.2-1.43.59L10.3 9.45l-7.72 7.72c-.78.78-.78 2.05 0 2.83L4 21.41c.39.39.9.59 1.41.59.51 0 1.02-.2 1.41-.59l7.78-7.78 2.81-2.81c.8-.78.8-2.07 0-2.86zM5.41 20L4 18.59l7.72-7.72 1.47 1.35L5.41 20z\"/>\n",
              "  </svg>\n",
              "      </button>\n",
              "      \n",
              "  <style>\n",
              "    .colab-df-container {\n",
              "      display:flex;\n",
              "      flex-wrap:wrap;\n",
              "      gap: 12px;\n",
              "    }\n",
              "\n",
              "    .colab-df-convert {\n",
              "      background-color: #E8F0FE;\n",
              "      border: none;\n",
              "      border-radius: 50%;\n",
              "      cursor: pointer;\n",
              "      display: none;\n",
              "      fill: #1967D2;\n",
              "      height: 32px;\n",
              "      padding: 0 0 0 0;\n",
              "      width: 32px;\n",
              "    }\n",
              "\n",
              "    .colab-df-convert:hover {\n",
              "      background-color: #E2EBFA;\n",
              "      box-shadow: 0px 1px 2px rgba(60, 64, 67, 0.3), 0px 1px 3px 1px rgba(60, 64, 67, 0.15);\n",
              "      fill: #174EA6;\n",
              "    }\n",
              "\n",
              "    [theme=dark] .colab-df-convert {\n",
              "      background-color: #3B4455;\n",
              "      fill: #D2E3FC;\n",
              "    }\n",
              "\n",
              "    [theme=dark] .colab-df-convert:hover {\n",
              "      background-color: #434B5C;\n",
              "      box-shadow: 0px 1px 3px 1px rgba(0, 0, 0, 0.15);\n",
              "      filter: drop-shadow(0px 1px 2px rgba(0, 0, 0, 0.3));\n",
              "      fill: #FFFFFF;\n",
              "    }\n",
              "  </style>\n",
              "\n",
              "      <script>\n",
              "        const buttonEl =\n",
              "          document.querySelector('#df-75c45b6e-e887-4798-9ba7-232c46cc8b00 button.colab-df-convert');\n",
              "        buttonEl.style.display =\n",
              "          google.colab.kernel.accessAllowed ? 'block' : 'none';\n",
              "\n",
              "        async function convertToInteractive(key) {\n",
              "          const element = document.querySelector('#df-75c45b6e-e887-4798-9ba7-232c46cc8b00');\n",
              "          const dataTable =\n",
              "            await google.colab.kernel.invokeFunction('convertToInteractive',\n",
              "                                                     [key], {});\n",
              "          if (!dataTable) return;\n",
              "\n",
              "          const docLinkHtml = 'Like what you see? Visit the ' +\n",
              "            '<a target=\"_blank\" href=https://colab.research.google.com/notebooks/data_table.ipynb>data table notebook</a>'\n",
              "            + ' to learn more about interactive tables.';\n",
              "          element.innerHTML = '';\n",
              "          dataTable['output_type'] = 'display_data';\n",
              "          await google.colab.output.renderOutput(dataTable, element);\n",
              "          const docLink = document.createElement('div');\n",
              "          docLink.innerHTML = docLinkHtml;\n",
              "          element.appendChild(docLink);\n",
              "        }\n",
              "      </script>\n",
              "    </div>\n",
              "  </div>\n",
              "  "
            ],
            "text/plain": [
              "    X1   X2   X3   X4   X5   X6   X7   X8   X9  X10  ...  X170  X171  X172  \\\n",
              "0  135  190  229  223  192  125   55   -9  -33  -38  ...   -17   -15   -31   \n",
              "1  386  382  356  331  320  315  307  272  244  232  ...   164   150   146   \n",
              "2  -32  -39  -47  -37  -32  -36  -57  -73  -85  -94  ...    57    64    48   \n",
              "3 -105 -101  -96  -92  -89  -95 -102 -100  -87  -79  ...   -82   -81   -80   \n",
              "4   -9  -65  -98 -102  -78  -48  -16    0  -21  -59  ...     4     2   -12   \n",
              "\n",
              "   X173  X174  X175  X176  X177  X178  dependent_var  \n",
              "0   -77  -103  -127  -116   -83   -51              0  \n",
              "1   152   157   156   154   143   129              1  \n",
              "2    19   -12   -30   -35   -35   -36              0  \n",
              "3   -77   -85   -77   -72   -69   -65              0  \n",
              "4   -32   -41   -65   -83   -89   -73              0  \n",
              "\n",
              "[5 rows x 179 columns]"
            ]
          },
          "execution_count": 5,
          "metadata": {},
          "output_type": "execute_result"
        }
      ],
      "source": [
        "data.head()"
      ]
    },
    {
      "cell_type": "code",
      "execution_count": null,
      "metadata": {
        "colab": {
          "base_uri": "https://localhost:8080/"
        },
        "id": "N1vpxxZdpeWz",
        "outputId": "c201595f-f78a-4be4-db8f-89e991777cf8"
      },
      "outputs": [
        {
          "name": "stdout",
          "output_type": "stream",
          "text": [
            "prevalence of the positive class: 0.200\n"
          ]
        }
      ],
      "source": [
        "def calc_prevalence(y_actual):\n",
        "    # this function calculates the prevalence of the positive class (label = 1)\n",
        "    return sum(y_actual) / len(y_actual)\n",
        "\n",
        "\n",
        "print(\n",
        "    \"prevalence of the positive class: %.3f\"\n",
        "    % calc_prevalence(data[\"dependent_var\"].values)\n",
        ")\n"
      ]
    },
    {
      "cell_type": "code",
      "execution_count": null,
      "metadata": {
        "colab": {
          "base_uri": "https://localhost:8080/"
        },
        "id": "qX4FmQvepwHB",
        "outputId": "c44dea57-9f81-4e73-bb69-7a8eb8b54a48"
      },
      "outputs": [
        {
          "name": "stdout",
          "output_type": "stream",
          "text": [
            "# of Columns: 179\n"
          ]
        }
      ],
      "source": [
        "print(\"# of Columns:\", len(data.columns))"
      ]
    },
    {
      "cell_type": "markdown",
      "metadata": {
        "id": "ipVluCaBp64o"
      },
      "source": [
        "Feature Engineering"
      ]
    },
    {
      "cell_type": "code",
      "execution_count": null,
      "metadata": {
        "id": "0S0GWSe0p6F0"
      },
      "outputs": [],
      "source": [
        "collist = data.columns.tolist()\n",
        "cols_input = collist[0:178]\n",
        "data_data = data[cols_input + [\"dependent_var\"]]"
      ]
    },
    {
      "cell_type": "code",
      "execution_count": null,
      "metadata": {
        "colab": {
          "base_uri": "https://localhost:8080/"
        },
        "id": "9iSt8xEApzQe",
        "outputId": "100c5617-31da-4681-c3e9-82d6117937c1"
      },
      "outputs": [
        {
          "name": "stdout",
          "output_type": "stream",
          "text": [
            "set()\n"
          ]
        }
      ],
      "source": [
        "# check for duplicated columns in cols_input\n",
        "dup_cols = set([x for x in cols_input if cols_input.count(x) > 1])\n",
        "print(dup_cols)\n",
        "assert len(dup_cols) == 0, \"you have duplicated columns in cols_input\""
      ]
    },
    {
      "cell_type": "code",
      "execution_count": null,
      "metadata": {
        "colab": {
          "base_uri": "https://localhost:8080/"
        },
        "id": "RllfGdA4qSZe",
        "outputId": "915872d3-d528-403c-e5c8-26f145f1ca5e"
      },
      "outputs": [
        {
          "name": "stdout",
          "output_type": "stream",
          "text": [
            "set()\n"
          ]
        }
      ],
      "source": [
        "# check for duplicated columns in df_data\n",
        "cols_df_data = list(data_data.columns)\n",
        "dup_cols = set([x for x in cols_df_data if cols_df_data.count(x) > 1])\n",
        "print(dup_cols)\n",
        "assert len(dup_cols) == 0,'you have duplicated columns in df_data'\n"
      ]
    },
    {
      "cell_type": "code",
      "execution_count": null,
      "metadata": {
        "id": "e_nsxkLkqV2a"
      },
      "outputs": [],
      "source": [
        "# check the size of df_data makes sense\n",
        "assert (len(cols_input) + 1) == len(data_data.columns), \"issue with dimensions of df_data or cols_input\"\n"
      ]
    },
    {
      "cell_type": "markdown",
      "metadata": {
        "id": "CIdzW8oaqqIj"
      },
      "source": [
        "Building Training/Validation/Test Samples"
      ]
    },
    {
      "cell_type": "code",
      "execution_count": null,
      "metadata": {
        "id": "8_9-j14DqgcW"
      },
      "outputs": [],
      "source": [
        "df_data = data_data.sample(n=len(data_data))\n",
        "df_data = data_data.reset_index(drop=True)"
      ]
    },
    {
      "cell_type": "code",
      "execution_count": null,
      "metadata": {
        "colab": {
          "base_uri": "https://localhost:8080/"
        },
        "id": "lL4w_xywqxkr",
        "outputId": "5c2eb19e-0bbd-49ca-fca7-32f0f059e26d"
      },
      "outputs": [
        {
          "name": "stdout",
          "output_type": "stream",
          "text": [
            "Validation/Test Split Size: 0.3\n"
          ]
        }
      ],
      "source": [
        "df_valid_test = df_data.sample(frac=0.3)\n",
        "print(\"Validation/Test Split Size: %.1f\" % (len(df_valid_test) / len(df_data)))\n",
        "\n",
        "df_test = df_valid_test.sample(frac=0.5)\n",
        "df_valid = df_valid_test.drop(df_test.index)\n",
        "\n",
        "df_train_all = df_data.drop(df_valid_test.index)\n"
      ]
    },
    {
      "cell_type": "code",
      "execution_count": null,
      "metadata": {
        "colab": {
          "base_uri": "https://localhost:8080/"
        },
        "id": "jP5iOqsUq36C",
        "outputId": "956e9545-c98a-4323-fb98-8b6e25ef52e9"
      },
      "outputs": [
        {
          "name": "stdout",
          "output_type": "stream",
          "text": [
            "Test prevalence(n = 1725):0.198\n",
            "Valid prevalence(n = 1725):0.193\n",
            "Train all prevalence(n = 8050):0.202\n"
          ]
        }
      ],
      "source": [
        "# check the prevalence of each\n",
        "print(\"Test prevalence(n = %d):%.3f\" % (len(df_test), calc_prevalence(df_test.dependent_var.values)))\n",
        "print(\"Valid prevalence(n = %d):%.3f\" % (len(df_valid), calc_prevalence(df_valid.dependent_var.values)))\n",
        "print(\"Train all prevalence(n = %d):%.3f\" % (len(df_train_all), calc_prevalence(df_train_all.dependent_var.values)))\n"
      ]
    },
    {
      "cell_type": "code",
      "execution_count": null,
      "metadata": {
        "colab": {
          "base_uri": "https://localhost:8080/"
        },
        "id": "Ro82TC2prC79",
        "outputId": "38a24f0e-27bc-4485-fe77-1c68f7023238"
      },
      "outputs": [
        {
          "name": "stdout",
          "output_type": "stream",
          "text": [
            "all samples (n = 11500)\n"
          ]
        }
      ],
      "source": [
        "print('all samples (n = %d)'%len(df_data))\n",
        "assert len(df_data) == (len(df_test)+len(df_valid)+len(df_train_all)),'math didnt work'"
      ]
    },
    {
      "cell_type": "code",
      "execution_count": null,
      "metadata": {
        "colab": {
          "base_uri": "https://localhost:8080/"
        },
        "id": "PfErJJmRrWpO",
        "outputId": "6ed715b0-122d-4c62-e451-e4aa98122244"
      },
      "outputs": [
        {
          "name": "stdout",
          "output_type": "stream",
          "text": [
            "Train balanced prevalence(n = 3250):0.500\n"
          ]
        }
      ],
      "source": [
        "rows_pos = df_train_all.dependent_var == 1\n",
        "df_train_pos = df_train_all.loc[rows_pos]\n",
        "df_train_neg = df_train_all.loc[~rows_pos]\n",
        "\n",
        "n = np.min([len(df_train_pos), len(df_train_neg)])\n",
        "\n",
        "df_train = pd.concat([df_train_pos.sample(n=n, random_state=69), df_train_neg.sample(n=n, random_state=69)], axis=0, ignore_index=True)\n",
        "\n",
        "df_train = df_train.sample(n=len(df_train), random_state=69).reset_index(drop=True)\n",
        "\n",
        "print('Train balanced prevalence(n = %d):%.3f'%(len(df_train), calc_prevalence(df_train.dependent_var.values)))\n",
        "\n"
      ]
    },
    {
      "cell_type": "code",
      "execution_count": null,
      "metadata": {
        "id": "3gHc3OtfrWzz"
      },
      "outputs": [],
      "source": [
        "#Save all 4 dataframes to csv and the cols_input\n",
        "df_train_all.to_csv('/content/drive/MyDrive/major/df_train_all.csv',index=False)\n",
        "df_train.to_csv('/content/drive/MyDrive/major/df_train.csv',index=False)\n",
        "df_valid.to_csv('/content/drive/MyDrive/major/df_valid.csv',index=False)\n",
        "df_test.to_csv('/content/drive/MyDrive/major/df_test.csv',index=False)"
      ]
    },
    {
      "cell_type": "code",
      "execution_count": null,
      "metadata": {
        "id": "wqUbe7iQszVM"
      },
      "outputs": [],
      "source": [
        "pickle.dump(cols_input, open('/content/drive/MyDrive/major/cols_input.sav', 'wb'))"
      ]
    },
    {
      "cell_type": "code",
      "execution_count": null,
      "metadata": {
        "id": "V2SslQrotsIu"
      },
      "outputs": [],
      "source": [
        "# a function to fill missing values with mean of the column if needed\n",
        "def fill_my_missing(df, df_mean, col2use):\n",
        "    # This function fills the missing values\n",
        "\n",
        "    # check the columns are present\n",
        "    for c in col2use:\n",
        "        assert c in df.columns, c + ' not in df'\n",
        "        assert c in df_mean.col.values, c+ 'not in df_mean'\n",
        "    \n",
        "    # replace the mean \n",
        "    for c in col2use:\n",
        "        mean_value = df_mean.loc[df_mean.col == c,'mean_val'].values[0]\n",
        "        df[c] = df[c].fillna(mean_value)\n",
        "    return df"
      ]
    },
    {
      "cell_type": "code",
      "execution_count": null,
      "metadata": {
        "colab": {
          "base_uri": "https://localhost:8080/"
        },
        "id": "eeqYaqm6t3pg",
        "outputId": "8325c385-85e0-4b74-97d8-6285afef3f56"
      },
      "outputs": [
        {
          "name": "stdout",
          "output_type": "stream",
          "text": [
            "Training All shapes: (8050, 178)\n",
            "Training shapes: (3250, 178) (3250,)\n",
            "Validation shapes: (1725, 178) (1725,)\n"
          ]
        }
      ],
      "source": [
        "# create the X and y matrices\n",
        "X_train = df_train[cols_input].values\n",
        "X_train_all = df_train_all[cols_input].values\n",
        "X_valid = df_valid[cols_input].values\n",
        "\n",
        "y_train = df_train['dependent_var'].values\n",
        "y_valid = df_valid['dependent_var'].values\n",
        "\n",
        "print('Training All shapes:',X_train_all.shape)\n",
        "print('Training shapes:',X_train.shape, y_train.shape)\n",
        "print('Validation shapes:',X_valid.shape, y_valid.shape)\n",
        "\n",
        "\n",
        "scaler  = StandardScaler()\n",
        "scaler.fit(X_train_all)\n",
        "\n",
        "scalerfile = '/content/drive/MyDrive/major/scaler.sav'\n",
        "pickle.dump(scaler, open(scalerfile, 'wb'))\n",
        "scaler = pickle.load(open(scalerfile, 'rb'))\n",
        "\n",
        "# transform our data matrices\n",
        "X_train_tf = scaler.transform(X_train)\n",
        "X_valid_tf = scaler.transform(X_valid)\n"
      ]
    },
    {
      "cell_type": "markdown",
      "metadata": {
        "id": "7fyggSFsvIUi"
      },
      "source": [
        "Model Selection"
      ]
    },
    {
      "cell_type": "code",
      "execution_count": null,
      "metadata": {
        "id": "iKI49cEAuuay"
      },
      "outputs": [],
      "source": [
        "\n",
        "def calc_specificity(y_actual, y_pred, thresh):\n",
        "    # calculates specificity\n",
        "    return sum((y_pred < thresh) & (y_actual == 0)) /sum(y_actual ==0)\n",
        "\n",
        "def print_report(y_actual, y_pred, thresh):\n",
        "    \n",
        "    auc = roc_auc_score(y_actual, y_pred)\n",
        "    accuracy = accuracy_score(y_actual, (y_pred > thresh))\n",
        "    recall = recall_score(y_actual, (y_pred > thresh))\n",
        "    precision = precision_score(y_actual, (y_pred > thresh))\n",
        "    specificity = calc_specificity(y_actual, y_pred, thresh)\n",
        "    print('AUC:%.3f'%auc)\n",
        "    print('accuracy:%.3f'%accuracy)\n",
        "    print('recall:%.3f'%recall)\n",
        "    print('precision:%.3f'%precision)\n",
        "    print('specificity:%.3f'%specificity)\n",
        "    print('prevalence:%.3f'%calc_prevalence(y_actual))\n",
        "    print(' ')\n",
        "    return auc, accuracy, recall, precision, specificity \n"
      ]
    },
    {
      "cell_type": "code",
      "execution_count": null,
      "metadata": {
        "id": "7vD2cPosvD8y"
      },
      "outputs": [],
      "source": [
        "thresh = 0.5"
      ]
    },
    {
      "cell_type": "code",
      "execution_count": null,
      "metadata": {
        "id": "E7bGV2d3v7Tt"
      },
      "outputs": [],
      "source": [
        "import warnings\n",
        "warnings.filterwarnings('ignore')"
      ]
    },
    {
      "cell_type": "markdown",
      "metadata": {
        "id": "YSYLri1xvN6o"
      },
      "source": [
        "**Model Selection: baseline models**\n",
        "\n",
        "K nearest neighbors (KNN)"
      ]
    },
    {
      "cell_type": "code",
      "execution_count": null,
      "metadata": {
        "colab": {
          "base_uri": "https://localhost:8080/"
        },
        "id": "Q8olQCFuvZK5",
        "outputId": "e4baeffc-1b64-4d9b-8011-ed87d1d2718b"
      },
      "outputs": [
        {
          "name": "stdout",
          "output_type": "stream",
          "text": [
            "KNN\n",
            "Training:\n",
            "AUC:0.991\n",
            "accuracy:0.622\n",
            "recall:0.244\n",
            "precision:0.997\n",
            "specificity:0.999\n",
            "prevalence:0.500\n",
            " \n",
            "Validation:\n",
            "AUC:0.967\n",
            "accuracy:0.856\n",
            "recall:0.258\n",
            "precision:0.989\n",
            "specificity:0.999\n",
            "prevalence:0.193\n",
            " \n"
          ]
        }
      ],
      "source": [
        "knn=KNeighborsClassifier(n_neighbors = 100)\n",
        "knn.fit(X_train_tf, y_train)\n",
        "\n",
        "y_train_preds = knn.predict_proba(X_train_tf)[:,1]\n",
        "y_valid_preds = knn.predict_proba(X_valid_tf)[:,1]\n",
        "\n",
        "print('KNN')\n",
        "print('Training:')\n",
        "knn_train_auc, knn_train_accuracy, knn_train_recall, \\\n",
        "    knn_train_precision, knn_train_specificity = print_report(y_train,y_train_preds, thresh)\n",
        "print('Validation:')\n",
        "knn_valid_auc, knn_valid_accuracy, knn_valid_recall, \\\n",
        "    knn_valid_precision, knn_valid_specificity = print_report(y_valid,y_valid_preds, thresh)"
      ]
    },
    {
      "cell_type": "markdown",
      "metadata": {
        "id": "jVY3C-_kwssK"
      },
      "source": [
        "Logistic Regression"
      ]
    },
    {
      "cell_type": "code",
      "execution_count": null,
      "metadata": {
        "colab": {
          "base_uri": "https://localhost:8080/"
        },
        "id": "-usdRGlXwV6-",
        "outputId": "34585ce3-dca1-41fb-ddbc-49b78dce4b96"
      },
      "outputs": [
        {
          "name": "stdout",
          "output_type": "stream",
          "text": [
            "Logistic Regression\n",
            "Training:\n",
            "AUC:0.634\n",
            "accuracy:0.654\n",
            "recall:0.542\n",
            "precision:0.698\n",
            "specificity:0.766\n",
            "prevalence:0.500\n",
            " \n",
            "Validation:\n",
            "AUC:0.531\n",
            "accuracy:0.706\n",
            "recall:0.483\n",
            "precision:0.325\n",
            "specificity:0.759\n",
            "prevalence:0.193\n",
            " \n"
          ]
        }
      ],
      "source": [
        "lr = LogisticRegression(random_state = 69)\n",
        "lr.fit(X_train_tf, y_train)\n",
        "\n",
        "y_train_preds = lr.predict_proba(X_train_tf)[:,1]\n",
        "y_valid_preds = lr.predict_proba(X_valid_tf)[:,1]\n",
        "\n",
        "print('Logistic Regression')\n",
        "print('Training:')\n",
        "lr_train_auc, lr_train_accuracy, lr_train_recall, \\\n",
        "    lr_train_precision, lr_train_specificity = print_report(y_train,y_train_preds, thresh)\n",
        "print('Validation:')\n",
        "lr_valid_auc, lr_valid_accuracy, lr_valid_recall, \\\n",
        "    lr_valid_precision, lr_valid_specificity = print_report(y_valid,y_valid_preds, thresh)"
      ]
    },
    {
      "cell_type": "markdown",
      "metadata": {
        "id": "7buKwtOLxJAq"
      },
      "source": [
        "Stochastic Gradient Descent"
      ]
    },
    {
      "cell_type": "code",
      "execution_count": null,
      "metadata": {
        "colab": {
          "base_uri": "https://localhost:8080/"
        },
        "id": "gg96f6aWxA4j",
        "outputId": "b682da25-2d53-412c-9fd8-23e9490a56a2"
      },
      "outputs": [
        {
          "name": "stdout",
          "output_type": "stream",
          "text": [
            "SGDC\n",
            "Training:\n",
            "AUC:0.583\n",
            "accuracy:0.621\n",
            "recall:0.540\n",
            "precision:0.645\n",
            "specificity:0.702\n",
            "prevalence:0.500\n",
            " \n",
            "Validation:\n",
            "AUC:0.526\n",
            "accuracy:0.672\n",
            "recall:0.471\n",
            "precision:0.288\n",
            "specificity:0.721\n",
            "prevalence:0.193\n",
            " \n"
          ]
        }
      ],
      "source": [
        "SGDC = SGDClassifier(loss = 'log',alpha = 0.1)\n",
        "SGDC.fit(X_train_tf, y_train)\n",
        "\n",
        "y_train_preds = SGDC.predict_proba(X_train_tf)[:,1]\n",
        "y_valid_preds = SGDC.predict_proba(X_valid_tf)[:,1]\n",
        "\n",
        "print('SGDC')\n",
        "print('Training:')\n",
        "SGDC_train_auc, SGDC_train_accuracy, SGDC_train_recall, \\\n",
        "    SGDC_train_precision, SGDC_train_specificity = print_report(y_train,y_train_preds, thresh)\n",
        "print('Validation:')\n",
        "SGDC_valid_auc, SGDC_valid_accuracy, SGDC_valid_recall, \\\n",
        "    SGDC_valid_precision, SGDC_valid_specificity = print_report(y_valid,y_valid_preds, thresh)\n"
      ]
    },
    {
      "cell_type": "markdown",
      "metadata": {
        "id": "mFM7AR5JxZUS"
      },
      "source": [
        "Naive Bayes"
      ]
    },
    {
      "cell_type": "code",
      "execution_count": null,
      "metadata": {
        "colab": {
          "base_uri": "https://localhost:8080/"
        },
        "id": "cyHaYxXSxYAx",
        "outputId": "87cebece-621a-4f90-e9eb-dad44cba0796"
      },
      "outputs": [
        {
          "name": "stdout",
          "output_type": "stream",
          "text": [
            "Naive Bayes\n",
            "Training:\n",
            "AUC:0.983\n",
            "accuracy:0.932\n",
            "recall:0.895\n",
            "precision:0.965\n",
            "specificity:0.968\n",
            "prevalence:0.500\n",
            " \n",
            "Validation:\n",
            "AUC:0.985\n",
            "accuracy:0.959\n",
            "recall:0.889\n",
            "precision:0.897\n",
            "specificity:0.976\n",
            "prevalence:0.193\n",
            " \n"
          ]
        }
      ],
      "source": [
        "nb = GaussianNB()\n",
        "nb.fit(X_train_tf, y_train)\n",
        "\n",
        "y_train_preds = nb.predict_proba(X_train_tf)[:,1]\n",
        "y_valid_preds = nb.predict_proba(X_valid_tf)[:,1]\n",
        "\n",
        "print('Naive Bayes')\n",
        "print('Training:')\n",
        "nb_train_auc, nb_train_accuracy, nb_train_recall, nb_train_precision, \\\n",
        "nb_train_specificity =print_report(y_train,y_train_preds, thresh)\n",
        "print('Validation:')\n",
        "nb_valid_auc, nb_valid_accuracy, nb_valid_recall, nb_valid_precision, \\\n",
        "nb_valid_specificity = print_report(y_valid,y_valid_preds, thresh)"
      ]
    },
    {
      "cell_type": "markdown",
      "metadata": {
        "id": "MpxLZfKqyBk1"
      },
      "source": [
        "Decision Trees"
      ]
    },
    {
      "cell_type": "code",
      "execution_count": null,
      "metadata": {
        "colab": {
          "base_uri": "https://localhost:8080/"
        },
        "id": "jXyt7-PjxuE8",
        "outputId": "3d5c3ba8-e23c-4864-dd1b-d8883815ea30"
      },
      "outputs": [
        {
          "name": "stdout",
          "output_type": "stream",
          "text": [
            "Decision Tree\n",
            "Training:\n",
            "AUC:0.983\n",
            "accuracy:0.979\n",
            "recall:0.961\n",
            "precision:0.997\n",
            "specificity:0.998\n",
            "prevalence:0.500\n",
            " \n",
            "Validation:\n",
            "AUC:0.852\n",
            "accuracy:0.901\n",
            "recall:0.859\n",
            "precision:0.698\n",
            "specificity:0.911\n",
            "prevalence:0.193\n",
            " \n"
          ]
        }
      ],
      "source": [
        "tree = DecisionTreeClassifier(max_depth = 10, random_state = 69)\n",
        "tree.fit(X_train_tf, y_train)\n",
        "\n",
        "y_train_preds = tree.predict_proba(X_train_tf)[:,1]\n",
        "y_valid_preds = tree.predict_proba(X_valid_tf)[:,1]\n",
        "\n",
        "print('Decision Tree')\n",
        "print('Training:')\n",
        "tree_train_auc, tree_train_accuracy, tree_train_recall, tree_train_precision, \\\n",
        "tree_train_specificity =print_report(y_train,y_train_preds, thresh)\n",
        "print('Validation:')\n",
        "tree_valid_auc, tree_valid_accuracy, tree_valid_recall, tree_valid_precision, \\\n",
        "tree_valid_specificity = print_report(y_valid,y_valid_preds, thresh)"
      ]
    },
    {
      "cell_type": "markdown",
      "metadata": {
        "id": "dCwZM5vgyH-M"
      },
      "source": [
        "Random Forest"
      ]
    },
    {
      "cell_type": "code",
      "execution_count": null,
      "metadata": {
        "colab": {
          "base_uri": "https://localhost:8080/"
        },
        "id": "L9vXlYxpyAcj",
        "outputId": "5d927bf9-7cc9-4cea-fa93-f99f4f21171b"
      },
      "outputs": [
        {
          "name": "stdout",
          "output_type": "stream",
          "text": [
            "Random Forest\n",
            "Training:\n",
            "AUC:0.997\n",
            "accuracy:0.967\n",
            "recall:0.945\n",
            "precision:0.988\n",
            "specificity:0.989\n",
            "prevalence:0.500\n",
            " \n",
            "Validation:\n",
            "AUC:0.993\n",
            "accuracy:0.958\n",
            "recall:0.913\n",
            "precision:0.874\n",
            "specificity:0.968\n",
            "prevalence:0.193\n",
            " \n"
          ]
        }
      ],
      "source": [
        "rf = RandomForestClassifier(max_depth = 6, random_state = 69)\n",
        "rf.fit(X_train_tf, y_train)\n",
        "\n",
        "y_train_preds = rf.predict_proba(X_train_tf)[:,1]\n",
        "y_valid_preds = rf.predict_proba(X_valid_tf)[:,1]\n",
        "\n",
        "print('Random Forest')\n",
        "print('Training:')\n",
        "rf_train_auc, rf_train_accuracy, rf_train_recall, rf_train_precision, \\\n",
        "rf_train_specificity =print_report(y_train,y_train_preds, thresh)\n",
        "print('Validation:')\n",
        "rf_valid_auc, rf_valid_accuracy, rf_valid_recall, rf_valid_precision, \\\n",
        "rf_valid_specificity = print_report(y_valid,y_valid_preds, thresh)\n"
      ]
    },
    {
      "cell_type": "markdown",
      "metadata": {
        "id": "ifO3NCeDyfJu"
      },
      "source": [
        "Gradient Boosting "
      ]
    },
    {
      "cell_type": "code",
      "execution_count": null,
      "metadata": {
        "colab": {
          "base_uri": "https://localhost:8080/"
        },
        "id": "9f86HnG8ybwD",
        "outputId": "4d466346-5bc7-4e2a-cffa-0e3ae606c6e5"
      },
      "outputs": [
        {
          "name": "stdout",
          "output_type": "stream",
          "text": [
            "Gradient Boosting Classifier\n",
            "Training:\n",
            "AUC:1.000\n",
            "accuracy:1.000\n",
            "recall:1.000\n",
            "precision:1.000\n",
            "specificity:1.000\n",
            "prevalence:0.500\n",
            " \n",
            "Validation:\n",
            "AUC:0.993\n",
            "accuracy:0.960\n",
            "recall:0.946\n",
            "precision:0.861\n",
            "specificity:0.963\n",
            "prevalence:0.193\n",
            " \n"
          ]
        }
      ],
      "source": [
        "gbc = GradientBoostingClassifier( \\\n",
        "    n_estimators=100, learning_rate=1.0, max_depth=3, random_state=69)\n",
        "gbc.fit(X_train_tf, y_train)\n",
        "\n",
        "y_train_preds = gbc.predict_proba(X_train_tf)[:,1]\n",
        "y_valid_preds = gbc.predict_proba(X_valid_tf)[:,1]\n",
        "\n",
        "print('Gradient Boosting Classifier')\n",
        "print('Training:')\n",
        "gbc_train_auc, gbc_train_accuracy, gbc_train_recall, gbc_train_precision, \\\n",
        "gbc_train_specificity = print_report(y_train,y_train_preds, thresh)\n",
        "print('Validation:')\n",
        "gbc_valid_auc, gbc_valid_accuracy, gbc_valid_recall, gbc_valid_precision, \\\n",
        "gbc_valid_specificity = print_report(y_valid,y_valid_preds, thresh)"
      ]
    },
    {
      "cell_type": "markdown",
      "metadata": {
        "id": "UmOyB_99y3ep"
      },
      "source": [
        "Extremely Random Trees"
      ]
    },
    {
      "cell_type": "code",
      "execution_count": null,
      "metadata": {
        "colab": {
          "base_uri": "https://localhost:8080/"
        },
        "id": "oEJQZVbbyuri",
        "outputId": "37b1cfd6-b5a5-43f9-9815-426b0cedad02"
      },
      "outputs": [
        {
          "name": "stdout",
          "output_type": "stream",
          "text": [
            "Extra Trees Classifier\n",
            "Training:\n",
            "AUC:1.000\n",
            "accuracy:0.997\n",
            "recall:0.998\n",
            "precision:0.996\n",
            "specificity:0.996\n",
            "prevalence:0.500\n",
            " \n",
            "Validation:\n",
            "AUC:0.995\n",
            "accuracy:0.963\n",
            "recall:0.976\n",
            "precision:0.853\n",
            "specificity:0.960\n",
            "prevalence:0.193\n",
            " \n"
          ]
        }
      ],
      "source": [
        "etc = ExtraTreesClassifier(bootstrap=False, criterion=\"entropy\", max_features=1.0,\n",
        "                           min_samples_leaf=3, min_samples_split=20, n_estimators=100)\n",
        "etc.fit(X_train_tf, y_train)\n",
        "\n",
        "y_train_preds = etc.predict_proba(X_train_tf)[:, 1]\n",
        "y_valid_preds = etc.predict_proba(X_valid_tf)[:, 1]\n",
        "\n",
        "print('Extra Trees Classifier')\n",
        "print('Training:')\n",
        "etc_train_auc, etc_train_accuracy, etc_train_recall, etc_train_precision, \\\n",
        "etc_train_specificity = print_report(y_train, y_train_preds, thresh)\n",
        "print('Validation:')\n",
        "etc_valid_auc, etc_valid_accuracy, etc_valid_recall, etc_valid_precision, \\\n",
        "etc_valid_specificity = print_report(y_valid, y_valid_preds, thresh)\n"
      ]
    },
    {
      "cell_type": "markdown",
      "metadata": {
        "id": "5TgxZwY-zPCW"
      },
      "source": [
        "XGBoost Classifier"
      ]
    },
    {
      "cell_type": "code",
      "execution_count": null,
      "metadata": {
        "colab": {
          "base_uri": "https://localhost:8080/"
        },
        "id": "TZ9TpKaKzGkE",
        "outputId": "65182866-0033-4c6e-88da-4f6aa8c517b7"
      },
      "outputs": [
        {
          "name": "stdout",
          "output_type": "stream",
          "text": [
            "Xtreme Gradient Boosting Classifier\n",
            "Training:\n",
            "AUC:1.000\n",
            "accuracy:1.000\n",
            "recall:1.000\n",
            "precision:1.000\n",
            "specificity:1.000\n",
            "prevalence:0.500\n",
            " \n",
            "Validation:\n",
            "AUC:0.995\n",
            "accuracy:0.965\n",
            "recall:0.964\n",
            "precision:0.870\n",
            "specificity:0.966\n",
            "prevalence:0.193\n",
            " \n"
          ]
        }
      ],
      "source": [
        "xgbc = XGBClassifier()\n",
        "xgbc.fit(X_train_tf, y_train)\n",
        "\n",
        "y_train_preds = xgbc.predict_proba(X_train_tf)[:,1]\n",
        "y_valid_preds = xgbc.predict_proba(X_valid_tf)[:,1]\n",
        "\n",
        "print('Xtreme Gradient Boosting Classifier')\n",
        "print('Training:')\n",
        "xgbc_train_auc, xgbc_train_accuracy, xgbc_train_recall, xgbc_train_precision, \\\n",
        "xgbc_train_specificity = print_report(y_train,y_train_preds, thresh)\n",
        "print('Validation:')\n",
        "xgbc_valid_auc, xgbc_valid_accuracy, xgbc_valid_recall, xgbc_valid_precision, \\\n",
        "xgbc_valid_specificity = print_report(y_valid,y_valid_preds, thresh)\n"
      ]
    },
    {
      "cell_type": "markdown",
      "metadata": {
        "id": "bPhFN5_F0ElS"
      },
      "source": [
        "Analyze results baseline models"
      ]
    },
    {
      "cell_type": "code",
      "execution_count": null,
      "metadata": {
        "id": "z9WwRgvmzalP"
      },
      "outputs": [],
      "source": [
        "df_results = pd.DataFrame({'classifier':['KNN','KNN','LR','LR','SGD','SGD','NB','NB','DT','DT','RF','RF','GB','GB','XGBC','XGBC','ETC','ETC'], \\\n",
        "                           'data_set':['train','valid']*9, \\\n",
        "                          'auc':[knn_train_auc, knn_valid_auc,lr_train_auc,lr_valid_auc,SGDC_train_auc,SGDC_valid_auc,nb_train_auc,nb_valid_auc,tree_train_auc,tree_valid_auc,rf_train_auc,rf_valid_auc,gbc_train_auc,gbc_valid_auc,xgbc_train_auc,xgbc_valid_auc,etc_train_auc,etc_valid_auc], \\\n",
        "                          'accuracy':[knn_train_accuracy, knn_valid_accuracy,lr_train_accuracy,lr_valid_accuracy,SGDC_train_accuracy,SGDC_valid_accuracy,nb_train_accuracy,nb_valid_accuracy,tree_train_accuracy,tree_valid_accuracy,rf_train_accuracy,rf_valid_accuracy,gbc_train_accuracy,gbc_valid_accuracy,xgbc_train_accuracy,xgbc_valid_accuracy,etc_train_accuracy,etc_valid_accuracy], \\\n",
        "                          'recall':[knn_train_recall, knn_valid_recall,lr_train_recall,lr_valid_recall,SGDC_train_recall,SGDC_valid_recall,nb_train_recall,nb_valid_recall,tree_train_recall,tree_valid_recall,rf_train_recall,rf_valid_recall,gbc_train_recall,gbc_valid_recall,xgbc_train_recall,xgbc_valid_recall,etc_train_recall,etc_valid_recall], \\\n",
        "                          'precision':[knn_train_precision, knn_valid_precision,lr_train_precision,lr_valid_precision,SGDC_train_precision,SGDC_valid_precision,nb_train_precision,nb_valid_precision,tree_train_precision,tree_valid_precision,rf_train_precision,rf_valid_precision,gbc_train_precision,gbc_valid_precision,xgbc_train_precision,xgbc_valid_precision,etc_train_precision,etc_valid_precision], \\\n",
        "                          'specificity':[knn_train_specificity, knn_valid_specificity,lr_train_specificity,lr_valid_specificity,SGDC_train_specificity,SGDC_valid_specificity,nb_train_specificity,nb_valid_specificity,tree_train_specificity,tree_valid_specificity,rf_train_specificity,rf_valid_specificity,gbc_train_specificity,gbc_valid_specificity,xgbc_train_specificity,xgbc_valid_specificity,etc_train_specificity,etc_valid_specificity]})"
      ]
    },
    {
      "cell_type": "code",
      "execution_count": null,
      "metadata": {
        "id": "J9N2clpW0MsC"
      },
      "outputs": [],
      "source": [
        "import seaborn as sns\n",
        "import matplotlib.pyplot as plt\n",
        "%matplotlib inline\n",
        "sns.set(style=\"whitegrid\")"
      ]
    },
    {
      "cell_type": "code",
      "execution_count": null,
      "metadata": {
        "colab": {
          "base_uri": "https://localhost:8080/",
          "height": 526
        },
        "id": "B2HW_GoW2Ca7",
        "outputId": "0d4d4967-b238-4049-e2f2-8d42c902e723"
      },
      "outputs": [
        {
          "data": {
            "text/plain": [
              "<matplotlib.legend.Legend at 0x7f0f498baa90>"
            ]
          },
          "execution_count": 35,
          "metadata": {},
          "output_type": "execute_result"
        },
        {
          "data": {
            "image/png": "[encoded data removed]",
            "text/plain": [
              "<Figure size 1152x576 with 1 Axes>"
            ]
          },
          "metadata": {},
          "output_type": "display_data"
        }
      ],
      "source": [
        "sns.set_style(\"whitegrid\")\n",
        "plt.figure(figsize=(16, 8))\n",
        "ax = sns.barplot(x = 'classifier', y = 'auc', hue = 'data_set', data = df_results)\n",
        "ax.set_xlabel('Classifier', fontsize = 15)\n",
        "ax.set_ylabel('AUC', fontsize = 15)\n",
        "ax.tick_params(labelsize = 15)\n",
        "\n",
        "#Separate legend from graph\n",
        "plt.legend(bbox_to_anchor = (1.05, 1), loc = 2, borderaxespad = 0., fontsize = 15)\n"
      ]
    },
    {
      "cell_type": "code",
      "execution_count": null,
      "metadata": {
        "colab": {
          "background_save": true,
          "base_uri": "https://localhost:8080/"
        },
        "id": "_KyQL1wN2E9m",
        "outputId": "4925de74-3a5b-44fd-c8b3-976a899e71ae"
      },
      "outputs": [
        {
          "name": "stdout",
          "output_type": "stream",
          "text": [
            "0.05 0.5835788249969482\n",
            "0.1 0.833392858505249\n",
            "0.15000000000000002 1.0086007118225098\n",
            "0.2 1.188619613647461\n",
            "0.25 1.3677823543548584\n",
            "0.3 1.6200575828552246\n",
            "0.35000000000000003 1.7717492580413818\n",
            "0.4 1.9396109580993652\n",
            "0.45 2.1095151901245117\n",
            "0.5 2.319485902786255\n",
            "0.55 2.47365140914917\n",
            "0.6000000000000001 2.6501195430755615\n",
            "0.6500000000000001 2.8232882022857666\n",
            "0.7000000000000001 3.0807383060455322\n",
            "0.7500000000000001 3.2051641941070557\n",
            "0.8 3.431321620941162\n",
            "0.8500000000000001 3.5985758304595947\n",
            "0.9000000000000001 3.772371530532837\n",
            "0.9500000000000001 3.9843668937683105\n",
            "1.0 4.1067187786102295\n"
          ]
        }
      ],
      "source": [
        "# this is a quick way to tune one parameter of your model while holding everything else constant.\n",
        "import time\n",
        "\n",
        "my_params =  np.arange(0.05, 1.01, 0.05) # fill this in your list of parameters\n",
        "\n",
        "# initialize arrays for storing the results\n",
        "train_metrics = np.zeros(len(my_params))\n",
        "valid_metrics = np.zeros(len(my_params))\n",
        "\n",
        "# train a model for each param in a list\n",
        "t1 = time.time()\n",
        "for jj in range(len(my_params)):\n",
        "    my_param = my_params[jj]\n",
        "    \n",
        "    # fit model\n",
        "    model = ExtraTreesClassifier(bootstrap=False, criterion=\"entropy\", max_features=my_param, min_samples_leaf=3, min_samples_split=20, n_estimators=100)\n",
        "    model.fit(X_train_tf, y_train)\n",
        "    # get predictions\n",
        "    y_train_preds = model.predict_proba(X_train_tf)[:,1]\n",
        "    y_valid_preds = model.predict_proba(X_valid_tf)[:,1]\n",
        "\n",
        "    # calculate auc\n",
        "    metric_train = roc_auc_score(y_train, y_train_preds) # fill this in\n",
        "    metric_valid = roc_auc_score(y_valid, y_valid_preds) # fill this in\n",
        "\n",
        "    # save aucs\n",
        "    train_metrics[jj] = metric_train\n",
        "    valid_metrics[jj] = metric_valid\n",
        "    \n",
        "    # print the time\n",
        "    t2 = time.time()\n",
        "    print(my_param, t2-t1)\n",
        "    t1 = time.time()"
      ]
    },
    {
      "cell_type": "code",
      "execution_count": null,
      "metadata": {
        "colab": {
          "background_save": true
        },
        "id": "CcLqssGyUn4G",
        "outputId": "f194e143-0ba1-4c38-b5b7-8f3f0cce0894"
      },
      "outputs": [
        {
          "data": {
            "image/png": "[encoded data removed]",
            "text/plain": [
              "<Figure size 432x288 with 1 Axes>"
            ]
          },
          "metadata": {},
          "output_type": "display_data"
        }
      ],
      "source": [
        "import matplotlib.pyplot as plt\n",
        "\n",
        "plt.plot(my_params, train_metrics,'o-',label = 'train')\n",
        "plt.plot(my_params, valid_metrics,'o-',label = 'valid')\n",
        "\n",
        "plt.xlabel('Max Features') # fill this in\n",
        "plt.ylabel('AUC')# fill this in\n",
        "plt.title('Effect of # of Max Features on AUC') # fill this in\n",
        "plt.legend()\n",
        "plt.show()"
      ]
    },
    {
      "cell_type": "markdown",
      "metadata": {
        "id": "ztLAeyMMUvrb"
      },
      "source": [
        "\n",
        "Learning Curves\n",
        "\n",
        "We plot learning curves for our best performing model.\n"
      ]
    },
    {
      "cell_type": "code",
      "execution_count": null,
      "metadata": {
        "colab": {
          "background_save": true
        },
        "id": "RGsJQPB6UrIV"
      },
      "outputs": [],
      "source": [
        "import numpy as np\n",
        "from sklearn.model_selection import learning_curve\n",
        "from sklearn.model_selection import ShuffleSplit\n",
        "import matplotlib.pyplot as plt\n",
        "\n",
        "def plot_learning_curve(estimator, title, X, y, ylim=None, cv=None,\n",
        "                        n_jobs=1, train_sizes=np.linspace(.1, 1.0, 5)):\n",
        "    \"\"\"\n",
        "    Generate a simple plot of the test and training learning curve.\n",
        "\n",
        "    Parameters\n",
        "    ----------\n",
        "    estimator : object type that implements the \"fit\" and \"predict\" methods\n",
        "        An object of that type which is cloned for each validation.\n",
        "\n",
        "    title : string\n",
        "        Title for the chart.\n",
        "\n",
        "    X : array-like, shape (n_samples, n_features)\n",
        "        Training vector, where n_samples is the number of samples and\n",
        "        n_features is the number of features.\n",
        "\n",
        "    y : array-like, shape (n_samples) or (n_samples, n_features), optional\n",
        "        Target relative to X for classification or regression;\n",
        "        None for unsupervised learning.\n",
        "\n",
        "    ylim : tuple, shape (ymin, ymax), optional\n",
        "        Defines minimum and maximum yvalues plotted.\n",
        "\n",
        "    cv : int, cross-validation generator or an iterable, optional\n",
        "        Determines the cross-validation splitting strategy.\n",
        "        Possible inputs for cv are:\n",
        "          - None, to use the default 3-fold cross-validation,\n",
        "          - integer, to specify the number of folds.\n",
        "          - An object to be used as a cross-validation generator.\n",
        "          - An iterable yielding train/test splits.\n",
        "\n",
        "        For integer/None inputs, if ``y`` is binary or multiclass,\n",
        "        :class:`StratifiedKFold` used. If the estimator is not a classifier\n",
        "        or if ``y`` is neither binary nor multiclass, :class:`KFold` is used.\n",
        "\n",
        "        Refer :ref:`User Guide <cross_validation>` for the various\n",
        "        cross-validators that can be used here.\n",
        "\n",
        "    n_jobs : integer, optional\n",
        "        Number of jobs to run in parallel (default 1).\n",
        "    \"\"\"\n",
        "    \n",
        "    plt.figure(figsize=(16, 8))\n",
        "    plt.title(title)\n",
        "    if ylim is not None:\n",
        "        plt.ylim(*ylim)\n",
        "    plt.xlabel(\"Training examples\")\n",
        "    plt.ylabel(\"AUC\")\n",
        "    train_sizes, train_scores, test_scores = learning_curve(\n",
        "        estimator, X, y, cv=cv, n_jobs=n_jobs, train_sizes=train_sizes, scoring = 'roc_auc')\n",
        "    train_scores_mean = np.mean(train_scores, axis=1)\n",
        "    train_scores_std = np.std(train_scores, axis=1)\n",
        "    test_scores_mean = np.mean(test_scores, axis=1)\n",
        "    test_scores_std = np.std(test_scores, axis=1)\n",
        "    plt.grid()\n",
        "\n",
        "    plt.fill_between(train_sizes, train_scores_mean - train_scores_std,\n",
        "                     train_scores_mean + train_scores_std, alpha=0.1,\n",
        "                     color=\"r\")\n",
        "    plt.fill_between(train_sizes, test_scores_mean - test_scores_std,\n",
        "                     test_scores_mean + test_scores_std, alpha=0.1, color=\"b\")\n",
        "    plt.plot(train_sizes, train_scores_mean, 'o-', color=\"r\",\n",
        "             label=\"Training score\")\n",
        "    plt.plot(train_sizes, test_scores_mean, 'o-', color=\"b\",\n",
        "             label=\"Cross-validation score\")\n",
        "\n",
        "    plt.legend(loc=\"best\")\n",
        "    return plt"
      ]
    },
    {
      "cell_type": "code",
      "execution_count": null,
      "metadata": {
        "id": "D21THxzqU9ob"
      },
      "outputs": [],
      "source": [
        "# Cross validation with 5 iterations to get smoother mean test and train\n",
        "# score curves, each time with 20% data randomly selected as a validation set.\n",
        "\n",
        "\n",
        "title = 'AUC Learning Curve for ExtraTrees'                                      \n",
        "cv = ShuffleSplit(n_splits=5, test_size=0.2, random_state=42)\n",
        "estimator = ExtraTreesClassifier(bootstrap=False, criterion=\"entropy\", max_features=1.0, min_samples_leaf=3, min_samples_split=20, n_estimators=100)                                    \n",
        "plot_learning_curve(estimator, title, X_train_tf, y_train, ylim=(0.2, 1.01), cv=cv, n_jobs=4)\n",
        "\n",
        "\n",
        "plt.show()\n"
      ]
    },
    {
      "cell_type": "markdown",
      "metadata": {
        "id": "Kc20uRZIVQ7U"
      },
      "source": [
        "My model has a low variance and a low bias\n",
        "\n",
        "Feature Importance"
      ]
    },
    {
      "cell_type": "code",
      "execution_count": null,
      "metadata": {
        "id": "p9aHQrzYVAW1"
      },
      "outputs": [],
      "source": [
        "feature_importances = pd.DataFrame(etc.feature_importances_, \\\n",
        "                                   index = cols_input, \\\n",
        "                                    columns=['importance']).sort_values('importance', \\\n",
        "                                                                        ascending=False)\n"
      ]
    },
    {
      "cell_type": "code",
      "execution_count": null,
      "metadata": {
        "id": "0dHNg5V8Vayx"
      },
      "outputs": [],
      "source": [
        "feature_importances.head()"
      ]
    },
    {
      "cell_type": "code",
      "execution_count": null,
      "metadata": {
        "id": "HTvyPURrVgWL"
      },
      "outputs": [],
      "source": [
        "pos_features = feature_importances.loc[feature_importances.importance > 0]\n",
        "\n",
        "num = np.min([50, len(pos_features)])\n",
        "ylocs = np.arange(num)\n",
        "# get the feature importance for top num and sort in reverse order\n",
        "values_to_plot = pos_features.iloc[:num].values.ravel()[::-1]\n",
        "feature_labels = list(pos_features.iloc[:num].index)[::-1]\n",
        "\n",
        "plt.figure(num=None, figsize=(8, 15), dpi=80, facecolor='w', edgecolor='k');\n",
        "plt.barh(ylocs, values_to_plot, align = 'center')\n",
        "plt.ylabel('Features')\n",
        "plt.xlabel('Importance Score')\n",
        "plt.title('Positive Feature Importance Score - ExtraTrees Classifier')\n",
        "plt.yticks(ylocs, feature_labels)\n",
        "plt.show()\n"
      ]
    },
    {
      "cell_type": "code",
      "execution_count": null,
      "metadata": {
        "id": "VDEcp1-OVn-e"
      },
      "outputs": [],
      "source": [
        "ax = xgb.plot_importance(xgbc)\n",
        "fig = ax.figure\n",
        "fig.set_size_inches(10, 35)\n",
        "plt.savefig('xgbcf.png')\n"
      ]
    },
    {
      "cell_type": "code",
      "execution_count": null,
      "metadata": {
        "id": "Kw69stGGVsiI"
      },
      "outputs": [],
      "source": [
        "! pip install shap"
      ]
    },
    {
      "cell_type": "code",
      "execution_count": null,
      "metadata": {
        "id": "-tLzCw4pVy3s"
      },
      "outputs": [],
      "source": [
        "import xgboost\n",
        "import shap\n",
        "\n",
        "# load JS visualization code to notebook\n",
        "shap.initjs()\n",
        "\n",
        "# train XGBoost model\n",
        "X = df_train.drop(columns=['dependent_var'])\n",
        "model = xgbc\n",
        "\n",
        "# explain the model's predictions using SHAP values\n",
        "# (same syntax works for LightGBM, CatBoost, and scikit-learn models)\n",
        "explainer = shap.TreeExplainer(model)\n",
        "shap_values = explainer.shap_values(X)\n",
        "\n",
        "# visualize the first prediction's explanation (use matplotlib=True to avoid Javascript)\n",
        "shap.force_plot(explainer.expected_value, shap_values[0,:], X.iloc[0,:])"
      ]
    },
    {
      "cell_type": "code",
      "execution_count": null,
      "metadata": {
        "id": "mZFQWDbeV8Xy"
      },
      "outputs": [],
      "source": [
        "shap.summary_plot(shap_values, X, plot_type=\"bar\")\n",
        "plt.savefig('shap.png')"
      ]
    },
    {
      "cell_type": "code",
      "execution_count": null,
      "metadata": {
        "id": "3jlFR9ObWJDO"
      },
      "outputs": [],
      "source": [
        "feature_importances = pd.DataFrame(xgbc.feature_importances_, \\\n",
        "                                   index = cols_input, \\\n",
        "                                    columns=['importance']).sort_values('importance', \\\n",
        "                                                                        ascending=False) \\"
      ]
    },
    {
      "cell_type": "code",
      "execution_count": null,
      "metadata": {
        "id": "1BgagZxEWQFf"
      },
      "outputs": [],
      "source": [
        "pos_features = feature_importances.loc[feature_importances.importance > 0]\n",
        "\n",
        "num = np.min([50, len(pos_features)])\n",
        "ylocs = np.arange(num)\n",
        "# get the feature importance for top num and sort in reverse order\n",
        "values_to_plot = pos_features.iloc[:num].values.ravel()[::-1]\n",
        "feature_labels = list(pos_features.iloc[:num].index)[::-1]\n",
        "\n",
        "plt.figure(num=None, figsize=(8, 15), dpi=80, facecolor='w', edgecolor='k');\n",
        "plt.barh(ylocs, values_to_plot, align = 'center')\n",
        "plt.ylabel('Features')\n",
        "plt.xlabel('Importance Score')\n",
        "plt.title('Positive Feature Importance Score - XGBoost Classifier')\n",
        "plt.yticks(ylocs, feature_labels)\n",
        "plt.savefig('xgbc.png')\n",
        "plt.show()"
      ]
    },
    {
      "cell_type": "markdown",
      "metadata": {
        "id": "sqYj-g85WZKl"
      },
      "source": [
        "Ultimately, all of the features should be equally important, since they are all EEG measures. Theoretically, there isn't any single one millisecond that is more important or predictive than any other millisecond in terms of determining whether a patient is having an epileptic seizure or not."
      ]
    },
    {
      "cell_type": "markdown",
      "metadata": {
        "id": "snfPpbmjWiEz"
      },
      "source": [
        "Hyperparameter tuning"
      ]
    },
    {
      "cell_type": "code",
      "execution_count": null,
      "metadata": {
        "id": "Qze5pCO9f5K0"
      },
      "outputs": [],
      "source": [
        "! pip install dask distributed --upgrade"
      ]
    },
    {
      "cell_type": "code",
      "execution_count": null,
      "metadata": {
        "id": "ffi_T6QFjxyy"
      },
      "outputs": [],
      "source": [
        "\n",
        "!pip install dask-ml\n"
      ]
    },
    {
      "cell_type": "code",
      "execution_count": null,
      "metadata": {
        "id": "E_ZNhkaQYKDj"
      },
      "outputs": [],
      "source": [
        "!pip install tpot"
      ]
    },
    {
      "cell_type": "code",
      "execution_count": null,
      "metadata": {
        "id": "TNK_J7TtjRir"
      },
      "outputs": [],
      "source": [
        "from dask.distributed import Client\n",
        "client = Client()\n",
        "client"
      ]
    },
    {
      "cell_type": "code",
      "execution_count": null,
      "metadata": {
        "id": "ZlyHItX0Xd2y"
      },
      "outputs": [],
      "source": [
        "\n",
        "from tpot import TPOTClassifier\n",
        "import numpy as np\n",
        "tpot_config = {         \\\n",
        "    'xgboost.XGBClassifier': {      \\\n",
        "        'n_estimators': [100],      \\\n",
        "        'max_depth': range(1, 11),  \\\n",
        "        'learning_rate': [1e-3, 1e-2, 1e-1, 0.5, 1.],       \\\n",
        "        'subsample': np.arange(0.05, 1.01, 0.05),           \\\n",
        "        'min_child_weight': range(1, 21),                   \\\n",
        "        'nthread': [1]                                      \\\n",
        "    },                                                      \\\n",
        "    'sklearn.ensemble.ExtraTreesClassifier': {              \\\n",
        "        'n_estimators': [100],                              \\\n",
        "        'criterion': [\"gini\", \"entropy\"],                   \\\n",
        "        'max_features': np.arange(0.05, 1.01, 0.05),        \\\n",
        "        'min_samples_split': range(2, 21),                  \\\n",
        "        'min_samples_leaf': range(1, 21),                   \\\n",
        "        'bootstrap': [True, False]                          \\\n",
        "    }\n",
        "\n",
        "}\n",
        "\n"
      ]
    },
    {
      "cell_type": "code",
      "execution_count": null,
      "metadata": {
        "id": "iWDfsyM0ad7P"
      },
      "outputs": [],
      "source": [
        "pipeline_optimizer = TPOTClassifier(verbosity=2, periodic_checkpoint_folder='tpot', generations=20, population_size=50, use_dask=True,scoring='roc_auc', config_dict=tpot_config, n_jobs=-1)\n",
        "pipeline_optimizer.fit(X_train_tf, y_train)\n",
        "print(pipeline_optimizer.score(X_valid, y_valid))\n",
        "pipeline_optimizer.export('/content/drive/MyDrive/major/tpot_exported_pipeline.py')"
      ]
    },
    {
      "cell_type": "code",
      "execution_count": null,
      "metadata": {
        "id": "TEyu1ySkgfLo"
      },
      "outputs": [],
      "source": [
        ""
      ]
    },
    {
      "cell_type": "code",
      "execution_count": null,
      "metadata": {
        "id": "SfnsTHgpZOuC"
      },
      "outputs": [],
      "source": [
        "from sklearn.ensemble import ExtraTreesClassifier\n",
        "from sklearn.model_selection import train_test_split\n",
        "from sklearn.pipeline import make_pipeline, make_union\n",
        "from tpot.builtins import StackingEstimator\n",
        "from sklearn.preprocessing import FunctionTransformer\n",
        "from copy import copy"
      ]
    },
    {
      "cell_type": "code",
      "execution_count": null,
      "metadata": {
        "id": "HX0s3tNeWTNX"
      },
      "outputs": [],
      "source": [
        "best_model = make_pipeline(                                                                                                 \\\n",
        "    make_union(                                                                                                             \\\n",
        "        FunctionTransformer(copy),                                                                                          \\\n",
        "        make_union(                                                                                                         \\\n",
        "            make_union(                                                                                                     \\\n",
        "                FunctionTransformer(copy),                                                                                  \\\n",
        "                make_union(                                                                                                 \\\n",
        "                    FunctionTransformer(copy),                                                                              \\\n",
        "                    make_union(                                                                                             \\\n",
        "                        StackingEstimator(estimator=make_pipeline(                                                          \\\n",
        "                            make_union(                                                                                     \\\n",
        "                                FunctionTransformer(copy),                                                                  \\\n",
        "                                FunctionTransformer(copy)                                                                   \\\n",
        "                            ),                                                                                              \\\n",
        "                            ExtraTreesClassifier(bootstrap=False, criterion=\"entropy\", max_features=0.1,                    \\\n",
        "                                                 min_samples_leaf=10, min_samples_split=10, n_estimators=100)               \\\n",
        "                        )),                                                                                                 \\\n",
        "                        FunctionTransformer(copy)                                                                           \\\n",
        "                    )                                                                                                       \\\n",
        "                )                                                                                                           \\\n",
        "            ),                                                                                                              \\\n",
        "            FunctionTransformer(copy)                                                                                       \\\n",
        "        )                                                                                                                   \\\n",
        "    ),                                                                                                                      \\\n",
        "    ExtraTreesClassifier(bootstrap=False, criterion=\"gini\", max_features=0.05,                                              \\\n",
        "                         min_samples_leaf=2, min_samples_split=4, n_estimators=100)                                         \\\n",
        ")       \n",
        "\n",
        "best_model.fit(X_train_tf, y_train)\n",
        "\n",
        "y_train_preds = best_model.predict_proba(X_train_tf)[:, 1]\n",
        "y_valid_preds = best_model.predict_proba(X_valid_tf)[:, 1]\n",
        "\n",
        "print('ExtraTrees Classifier')\n",
        "print('Training:')\n",
        "xgbc_train_auc, xgbc_train_accuracy, xgbc_train_recall, xgbc_train_precision, xgbc_train_specificity = print_report(\n",
        "    y_train, y_train_preds, thresh)\n",
        "print('Validation:')\n",
        "xgbc_valid_auc, xgbc_valid_accuracy, xgbc_valid_recall, xgbc_valid_precision, xgbc_valid_specificity = print_report(\n",
        "    y_valid, y_valid_preds, thresh)"
      ]
    },
    {
      "cell_type": "markdown",
      "metadata": {
        "id": "OP4XBzoTllcO"
      },
      "source": [
        "Best model save"
      ]
    },
    {
      "cell_type": "code",
      "execution_count": null,
      "metadata": {
        "id": "_dljAsr3Wuec"
      },
      "outputs": [],
      "source": [
        "pickle.dump(best_model, open('/content/drive/MyDrive/major/best_classifier.pkl', 'wb'),protocol = 4)\n"
      ]
    },
    {
      "cell_type": "markdown",
      "metadata": {
        "id": "9eRGMK9Mlsvf"
      },
      "source": [
        "Model Evaluation"
      ]
    },
    {
      "cell_type": "code",
      "execution_count": null,
      "metadata": {
        "id": "1_OH7-sglq5X"
      },
      "outputs": [],
      "source": [
        "# load the model, columns, and scaler\n",
        "best_model = pickle.load(open('best_classifier.pkl','rb'))\n",
        "cols_input = pickle.load(open('cols_input.sav','rb'))\n",
        "scaler = pickle.load(open('scaler.sav', 'rb'))\n",
        "\n",
        "# load the data\n",
        "df_train = pd.read_csv('df_train.csv')\n",
        "df_valid= pd.read_csv('df_valid.csv')\n",
        "df_test= pd.read_csv('df_test.csv')\n",
        "\n",
        "# create X and y matrices\n",
        "X_train = df_train[cols_input].values\n",
        "X_valid = df_valid[cols_input].values\n",
        "X_test = df_test[cols_input].values\n",
        "\n",
        "y_train = df_train['OUTPUT_LABEL'].values\n",
        "y_valid = df_valid['OUTPUT_LABEL'].values\n",
        "y_test = df_test['OUTPUT_LABEL'].values\n",
        "\n",
        "# transform our data matrices \n",
        "X_train_tf = scaler.transform(X_train)\n",
        "X_valid_tf = scaler.transform(X_valid)\n",
        "X_test_tf = scaler.transform(X_test)\n"
      ]
    },
    {
      "cell_type": "code",
      "execution_count": null,
      "metadata": {
        "id": "J5YFkSzrlyuu"
      },
      "outputs": [],
      "source": [
        "#Calculate prediction probabilities\n",
        "y_train_preds = best_model.predict_proba(X_train_tf)[:,1]\n",
        "y_valid_preds = best_model.predict_proba(X_valid_tf)[:,1]\n",
        "y_test_preds = best_model.predict_proba(X_test_tf)[:,1]"
      ]
    },
    {
      "cell_type": "code",
      "execution_count": null,
      "metadata": {
        "id": "pZF6izYCl40K"
      },
      "outputs": [],
      "source": [
        "#Performance evaluation\n",
        "thresh = 0.5\n",
        "\n",
        "print('Training:')\n",
        "train_auc, train_accuracy, train_recall, train_precision, train_specificity = print_report(y_train,y_train_preds, thresh)\n",
        "print('Validation:')\n",
        "valid_auc, valid_accuracy, valid_recall, valid_precision, valid_specificity = print_report(y_valid,y_valid_preds, thresh)\n",
        "print('Test:')\n",
        "test_auc, test_accuracy, test_recall, test_precision, test_specificity = print_report(y_test,y_test_preds, thresh)"
      ]
    },
    {
      "cell_type": "code",
      "execution_count": null,
      "metadata": {
        "id": "XqUFrBgDl8bj"
      },
      "outputs": [],
      "source": [
        "#Roc Curve\n",
        "\n",
        "from sklearn.metrics import roc_curve \n",
        "\n",
        "fpr_train, tpr_train, thresholds_train = roc_curve(y_train, y_train_preds)\n",
        "auc_train = roc_auc_score(y_train, y_train_preds)\n",
        "\n",
        "fpr_valid, tpr_valid, thresholds_valid = roc_curve(y_valid, y_valid_preds)\n",
        "auc_valid = roc_auc_score(y_valid, y_valid_preds)\n",
        "\n",
        "fpr_test, tpr_test, thresholds_test = roc_curve(y_test, y_test_preds)\n",
        "auc_test = roc_auc_score(y_test, y_test_preds)\n",
        "\n",
        "plt.figure(figsize=(16,10))\n",
        "plt.plot(fpr_train, tpr_train, 'r-',label ='Train AUC:%.3f'%auc_train)\n",
        "plt.plot(fpr_valid, tpr_valid, 'b-',label ='Valid AUC:%.3f'%auc_valid)\n",
        "plt.plot(fpr_test, tpr_test, 'g-',label ='Test AUC:%.3f'%auc_test)\n",
        "plt.plot([0,1],[0,1],'k--')\n",
        "plt.xlabel('False Positive Rate')\n",
        "plt.ylabel('True Positive Rate')\n",
        "plt.legend()\n",
        "plt.show()"
      ]
    }
  ],
  "metadata": {
    "colab": {
      "collapsed_sections": [],
      "name": "Epileptic Siezure.ipynb",
      "provenance": []
    },
    "kernelspec": {
      "display_name": "Python 3",
      "name": "python3"
    },
    "language_info": {
      "name": "python"
    }
  },
  "nbformat": 4,
  "nbformat_minor": 0
}